{
 "cells": [
  {
   "cell_type": "markdown",
   "metadata": {},
   "source": [
    "Highcharts Demos\n",
    "=================\n",
    "Spline with symbols: http://www.highcharts.com/demo/spline-symbols\n",
    "-------------------------------------------------------------------"
   ]
  },
  {
   "cell_type": "code",
   "execution_count": 1,
   "metadata": {
    "collapsed": false
   },
   "outputs": [
    {
     "data": {
      "text/html": [
       "<iframe style=\"border:0;outline:none;overflow:hidden\" srcdoc=\"&lt;!DOCTYPE html&gt;\n",
       "&lt;html lang=&quot;en&quot;&gt;\n",
       "    &lt;head&gt;\n",
       "        &lt;meta charset=&quot;utf-8&quot; /&gt;\n",
       "        &lt;link href=&quot;https://www.highcharts.com/highslide/highslide.css&quot; rel=&quot;stylesheet&quot; /&gt;\n",
       "        &lt;script type=&quot;text/javascript&quot; src=&quot;https://ajax.googleapis.com/ajax/libs/jquery/1.7.2/jquery.min.js&quot;&gt;&lt;/script&gt;\n",
       "        &lt;script type=&quot;text/javascript&quot; src=&quot;https://code.highcharts.com/highcharts.js&quot;&gt;&lt;/script&gt;\n",
       "        &lt;script type=&quot;text/javascript&quot; src=&quot;https://code.highcharts.com/highcharts-more.js&quot;&gt;&lt;/script&gt;\n",
       "        &lt;script type=&quot;text/javascript&quot; src=&quot;https://code.highcharts.com/modules/exporting.js&quot;&gt;&lt;/script&gt;\n",
       "    &lt;/head&gt;\n",
       "    &lt;body style=&quot;margin:0;padding:0&quot;&gt;\n",
       "                &lt;div id=&quot;container&quot; style=&quot;&quot;&gt;Loading....&lt;/div&gt;\n",
       "\n",
       "\n",
       "    &lt;script&gt;\n",
       "        $(function(){\n",
       "\n",
       "\n",
       " \n",
       "\n",
       "\n",
       "\n",
       "\n",
       "            Highcharts.setOptions({&quot;lang&quot;: {}, &quot;global&quot;: {}});\n",
       "            var option = {&quot;loading&quot;: {}, &quot;subtitle&quot;: {&quot;text&quot;: &quot;Source: WorldClimate.com&quot;}, &quot;xAxis&quot;: {&quot;categories&quot;: [&quot;Jan&quot;, &quot;Feb&quot;, &quot;Mar&quot;, &quot;Apr&quot;, &quot;May&quot;, &quot;Jun&quot;, &quot;Jul&quot;, &quot;Aug&quot;, &quot;Sep&quot;, &quot;Oct&quot;, &quot;Nov&quot;, &quot;Dec&quot;]}, &quot;title&quot;: {&quot;text&quot;: &quot;Monthly Average Temperature&quot;}, &quot;series&quot;: {}, &quot;labels&quot;: {}, &quot;yAxis&quot;: {&quot;labels&quot;: {&quot;formatter&quot;: function () {                            return this.value + &quot;°&quot;;                        }}, &quot;title&quot;: {&quot;text&quot;: &quot;Temperature&quot;}}, &quot;chart&quot;: {&quot;renderTo&quot;: &quot;container&quot;}, &quot;tooltip&quot;: {&quot;shared&quot;: true, &quot;pointFormat&quot;: &quot;{series.name}: {point.y}\\u00b0C &lt;br&gt;&quot;, &quot;crosshairs&quot;: true}, &quot;plotOptions&quot;: {}, &quot;credits&quot;: {&quot;enabled&quot;: false}, &quot;colors&quot;: {}, &quot;pane&quot;: {}, &quot;exporting&quot;: {}, &quot;drilldown&quot;: {}, &quot;navigation&quot;: {}, &quot;legend&quot;: {}};\n",
       "\n",
       "\n",
       "            var data = [{&quot;name&quot;: &quot;Tokyo&quot;, &quot;marker&quot;: {&quot;symbol&quot;: &quot;square&quot;}, &quot;type&quot;: &quot;spline&quot;, &quot;data&quot;: [7.0, 6.9, 9.5, 14.5, 18.2, 21.5, 25.2, {&quot;y&quot;: 26.5, &quot;marker&quot;: {&quot;symbol&quot;: &quot;url(http://www.highcharts.com/demo/gfx/sun.png)&quot;}}, 23.3, 18.3, 13.9, 9.6]}, {&quot;name&quot;: &quot;London&quot;, &quot;marker&quot;: {&quot;symbol&quot;: &quot;diamond&quot;}, &quot;type&quot;: &quot;spline&quot;, &quot;data&quot;: [{&quot;y&quot;: 3.9, &quot;marker&quot;: {&quot;symbol&quot;: &quot;url(http://www.highcharts.com/demo/gfx/snow.png)&quot;}}, 4.2, 5.7, 8.5, 11.9, 15.2, 17.0, 16.6, 14.2, 10.3, 6.6, 4.8]}];\n",
       "            option.series = data;\n",
       "\n",
       " \n",
       "\n",
       "            var chart = new Highcharts.Chart(option);\n",
       "\n",
       "\n",
       "\n",
       "\n",
       "\n",
       " \n",
       "\n",
       "\n",
       "        \n",
       "    });\n",
       "        &lt;/script&gt;\n",
       "\n",
       "    &lt;/body&gt;\n",
       "&lt;/html&gt; \"height= 520 width = 820></iframe>"
      ],
      "text/plain": [
       "<highcharts.highcharts.highcharts.Highchart at 0x7f492c1d4810>"
      ]
     },
     "execution_count": 1,
     "metadata": {},
     "output_type": "execute_result"
    }
   ],
   "source": [
    "from highcharts import Highchart\n",
    "H = Highchart()\n",
    "\n",
    "\n",
    "options = {\n",
    "    'title': {\n",
    "                'text': 'Monthly Average Temperature'\n",
    "            },\n",
    "    'subtitle': {\n",
    "        'text': 'Source: WorldClimate.com'\n",
    "    },\n",
    "    'xAxis': {\n",
    "        'categories': ['Jan', 'Feb', 'Mar', 'Apr', 'May', 'Jun',\n",
    "            'Jul', 'Aug', 'Sep', 'Oct', 'Nov', 'Dec']\n",
    "    },\n",
    "    'yAxis': {\n",
    "        'title': {\n",
    "            'text': 'Temperature'\n",
    "        },\n",
    "        'labels': {\n",
    "            'formatter': u'function () {\\\n",
    "                            return this.value + \"°\";\\\n",
    "                        }'\n",
    "        }\n",
    "    },\n",
    "    'tooltip': {\n",
    "        'crosshairs': True,\n",
    "        'shared': True,\n",
    "        'pointFormat': '{series.name}: {point.y}°C <br>'\n",
    "    }\n",
    "}\n",
    "\n",
    "\n",
    "H.set_dict_options(options) \n",
    "\n",
    "data1 =  [7.0, 6.9, 9.5, 14.5, 18.2, 21.5, 25.2, {\n",
    "                'y': 26.5,\n",
    "                'marker': {\n",
    "                    'symbol': 'url(http://www.highcharts.com/demo/gfx/sun.png)'\n",
    "                }\n",
    "            }, 23.3, 18.3, 13.9, 9.6]\n",
    "data2 = [{'y': 3.9,'marker': {\n",
    "                    'symbol': 'url(http://www.highcharts.com/demo/gfx/snow.png)'\n",
    "                }\n",
    "            }, 4.2, 5.7, 8.5, 11.9, 15.2, 17.0, 16.6, 14.2, 10.3, 6.6, 4.8]\n",
    "\n",
    "\n",
    "H.add_data_set(data1, 'spline', 'Tokyo', marker={\n",
    "                'symbol': 'square'\n",
    "            })\n",
    "H.add_data_set(data2, 'spline', 'London', marker={\n",
    "                'symbol': 'diamond'\n",
    "            }) \n",
    "\n",
    "H"
   ]
  }
 ],
 "metadata": {
  "kernelspec": {
   "display_name": "Python 2",
   "language": "python",
   "name": "python2"
  },
  "language_info": {
   "codemirror_mode": {
    "name": "ipython",
    "version": 2
   },
   "file_extension": ".py",
   "mimetype": "text/x-python",
   "name": "python",
   "nbconvert_exporter": "python",
   "pygments_lexer": "ipython2",
   "version": "2.7.6"
  }
 },
 "nbformat": 4,
 "nbformat_minor": 0
}
