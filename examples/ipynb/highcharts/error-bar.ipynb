{
 "cells": [
  {
   "cell_type": "markdown",
   "metadata": {},
   "source": [
    "Highcharts Demos\n",
    "=================\n",
    "Error bar: http://www.highcharts.com/demo/error-bar\n",
    "----------------------------------------------------"
   ]
  },
  {
   "cell_type": "code",
   "execution_count": 1,
   "metadata": {
    "collapsed": false
   },
   "outputs": [
    {
     "data": {
      "text/html": [
       "<iframe style=\"border:0;outline:none;overflow:hidden\" srcdoc=\"&lt;!DOCTYPE html&gt;\n",
       "&lt;html lang=&quot;en&quot;&gt;\n",
       "    &lt;head&gt;\n",
       "        &lt;meta charset=&quot;utf-8&quot; /&gt;\n",
       "        &lt;link href=&quot;https://www.highcharts.com/highslide/highslide.css&quot; rel=&quot;stylesheet&quot; /&gt;\n",
       "        &lt;script type=&quot;text/javascript&quot; src=&quot;https://ajax.googleapis.com/ajax/libs/jquery/1.7.2/jquery.min.js&quot;&gt;&lt;/script&gt;\n",
       "        &lt;script type=&quot;text/javascript&quot; src=&quot;https://code.highcharts.com/highcharts.js&quot;&gt;&lt;/script&gt;\n",
       "        &lt;script type=&quot;text/javascript&quot; src=&quot;https://code.highcharts.com/highcharts-more.js&quot;&gt;&lt;/script&gt;\n",
       "        &lt;script type=&quot;text/javascript&quot; src=&quot;https://code.highcharts.com/modules/exporting.js&quot;&gt;&lt;/script&gt;\n",
       "    &lt;/head&gt;\n",
       "    &lt;body style=&quot;margin:0;padding:0&quot;&gt;\n",
       "                &lt;div id=&quot;container&quot; style=&quot;width:550px;height:400px;&quot;&gt;Loading....&lt;/div&gt;\n",
       "\n",
       "\n",
       "    &lt;script&gt;\n",
       "        $(function(){\n",
       "\n",
       "\n",
       " \n",
       "\n",
       "\n",
       "\n",
       "\n",
       "            Highcharts.setOptions({&quot;lang&quot;: {}, &quot;global&quot;: {}});\n",
       "            var option = {&quot;loading&quot;: {}, &quot;subtitle&quot;: {}, &quot;xAxis&quot;: [{&quot;categories&quot;: [&quot;Jan&quot;, &quot;Feb&quot;, &quot;Mar&quot;, &quot;Apr&quot;, &quot;May&quot;, &quot;Jun&quot;, &quot;Jul&quot;, &quot;Aug&quot;, &quot;Sep&quot;, &quot;Oct&quot;, &quot;Nov&quot;, &quot;Dec&quot;]}], &quot;title&quot;: {&quot;text&quot;: &quot;Temperature vs Rainfall&quot;}, &quot;series&quot;: {}, &quot;labels&quot;: {}, &quot;yAxis&quot;: [{&quot;labels&quot;: {&quot;style&quot;: {&quot;color&quot;: Highcharts.getOptions().colors[1]}, &quot;format&quot;: &quot;{value} \\u00b0C&quot;}, &quot;title&quot;: {&quot;text&quot;: &quot;Temperature&quot;, &quot;style&quot;: {&quot;color&quot;: Highcharts.getOptions().colors[1]}}}, {&quot;max&quot;: 250, &quot;labels&quot;: {&quot;style&quot;: {&quot;color&quot;: Highcharts.getOptions().colors[0]}, &quot;format&quot;: &quot;{value} mm&quot;}, &quot;opposite&quot;: true, &quot;title&quot;: {&quot;text&quot;: &quot;Rainfall&quot;, &quot;style&quot;: {&quot;color&quot;: Highcharts.getOptions().colors[0]}}}], &quot;chart&quot;: {&quot;width&quot;: 550, &quot;zoomType&quot;: &quot;xy&quot;, &quot;renderTo&quot;: &quot;container&quot;, &quot;height&quot;: 400}, &quot;tooltip&quot;: {&quot;shared&quot;: true}, &quot;plotOptions&quot;: {}, &quot;credits&quot;: {&quot;enabled&quot;: false}, &quot;colors&quot;: {}, &quot;pane&quot;: {}, &quot;exporting&quot;: {}, &quot;drilldown&quot;: {}, &quot;navigation&quot;: {}, &quot;legend&quot;: {}};\n",
       "\n",
       "\n",
       "            var data = [{&quot;name&quot;: &quot;Rainfall&quot;, &quot;yAxis&quot;: 1, &quot;type&quot;: &quot;column&quot;, &quot;data&quot;: [49.9, 71.5, 106.4, 129.2, 144.0, 176.0, 135.6, 148.5, 216.4, 194.1, 95.6, 54.4], &quot;tooltip&quot;: {&quot;pointFormat&quot;: &quot;&lt;span style=\\&quot;font-weight: bold; color: {series.color}\\&quot;&gt;{series.name}&lt;/span&gt;: &lt;b&gt;{point.y:.1f} mm&lt;/b&gt; &quot;}}, {&quot;name&quot;: &quot;Rainfall error&quot;, &quot;yAxis&quot;: 1, &quot;type&quot;: &quot;errorbar&quot;, &quot;data&quot;: [[48, 51], [68, 73], [92, 110], [128, 136], [140, 150], [171, 179], [135, 143], [142, 149], [204, 220], [189, 199], [95, 110], [52, 56]], &quot;tooltip&quot;: {&quot;pointFormat&quot;: &quot;(error range: {point.low}-{point.high} mm)&lt;br/&gt;&quot;}}, {&quot;data&quot;: [7.0, 6.9, 9.5, 14.5, 18.2, 21.5, 25.2, 26.5, 23.3, 18.3, 13.9, 9.6], &quot;type&quot;: &quot;spline&quot;, &quot;name&quot;: &quot;Temperature&quot;, &quot;tooltip&quot;: {&quot;pointFormat&quot;: &quot;&lt;span style=\\&quot;font-weight: bold; color: {series.color}\\&quot;&gt;{series.name}&lt;/span&gt;: &lt;b&gt;{point.y:.1f}\\u00b0C&lt;/b&gt; &quot;}}, {&quot;data&quot;: [[6, 8], [5.9, 7.6], [9.4, 10.4], [14.1, 15.9], [18.0, 20.1], [21.0, 24.0], [23.2, 25.3], [26.1, 27.8], [23.2, 23.9], [18.0, 21.1], [12.9, 14.0], [7.6, 10.0]], &quot;type&quot;: &quot;errorbar&quot;, &quot;name&quot;: &quot;Temperature error&quot;, &quot;tooltip&quot;: {&quot;pointFormat&quot;: &quot;(error range: {point.low}-{point.high}\\u00b0C)&lt;br/&gt;&quot;}}]\n",
       "            option.series = data;\n",
       "\n",
       " \n",
       "\n",
       "            var chart = new Highcharts.Chart(option);\n",
       "\n",
       "\n",
       "\n",
       "\n",
       "\n",
       " \n",
       "\n",
       "\n",
       "        \n",
       "    });\n",
       "        &lt;/script&gt;\n",
       "\n",
       "    &lt;/body&gt;\n",
       "&lt;/html&gt;\" height=400 width=550></iframe>"
      ],
      "text/plain": [
       "<highcharts.highcharts.highcharts.Highchart at 0x7f1bb0121690>"
      ]
     },
     "execution_count": 1,
     "metadata": {},
     "output_type": "execute_result"
    }
   ],
   "source": [
    "from highcharts import Highchart\n",
    "H = Highchart(width=550, height=400)\n",
    "\n",
    "options = {\n",
    "\t'chart': {\n",
    "        'zoomType': 'xy'\n",
    "    },\n",
    "    'title': {\n",
    "        'text': 'Temperature vs Rainfall'\n",
    "    },\n",
    "    'xAxis': [{\n",
    "        'categories': ['Jan', 'Feb', 'Mar', 'Apr', 'May', 'Jun', 'Jul', 'Aug', 'Sep', 'Oct', 'Nov', 'Dec']\n",
    "    }],\n",
    "    'yAxis': [{ \n",
    "        'labels': {\n",
    "            'format': '{value} °C',\n",
    "            'style': {\n",
    "                'color': 'Highcharts.getOptions().colors[1]'\n",
    "            }\n",
    "        },\n",
    "        'title': {\n",
    "            'text': 'Temperature',\n",
    "            'style': {\n",
    "                'color': 'Highcharts.getOptions().colors[1]'\n",
    "            }\n",
    "        }\n",
    "    }, { \n",
    "        'title': {\n",
    "            'text': 'Rainfall',\n",
    "            'style': {\n",
    "                'color': 'Highcharts.getOptions().colors[0]'\n",
    "            }\n",
    "        },\n",
    "        'labels': {\n",
    "            'format': '{value} mm',\n",
    "            'style': {\n",
    "                'color': 'Highcharts.getOptions().colors[0]'\n",
    "            }\n",
    "        },\n",
    "        'max': 250,\n",
    "        'opposite': True\n",
    "    }],\n",
    "\n",
    "    'tooltip': {\n",
    "        'shared': True\n",
    "    },\n",
    "}\n",
    "\n",
    "data1 = [49.9, 71.5, 106.4, 129.2, 144.0, 176.0, 135.6, 148.5, 216.4, 194.1, 95.6, 54.4]\n",
    "data2 = [[48, 51], [68, 73], [92, 110], [128, 136], [140, 150], [171, 179], [135, 143], [142, 149], [204, 220], [189, 199], [95, 110], [52, 56]]\n",
    "data3 = [7.0, 6.9, 9.5, 14.5, 18.2, 21.5, 25.2, 26.5, 23.3, 18.3, 13.9, 9.6]\n",
    "data4 = [[6, 8], [5.9, 7.6], [9.4, 10.4], [14.1, 15.9], [18.0, 20.1], [21.0, 24.0], [23.2, 25.3], [26.1, 27.8], [23.2, 23.9], [18.0, 21.1], [12.9, 14.0], [7.6, 10.0]]\n",
    "\n",
    "H.set_dict_options(options)\n",
    "H.add_data_set(data1, 'column', 'Rainfall', yAxis = 1, tooltip = {\n",
    "                'pointFormat': '<span style=\"font-weight: bold; color: {series.color}\">{series.name}</span>: <b>{point.y:.1f} mm</b> '\n",
    "            })\n",
    "H.add_data_set(data2, 'errorbar', 'Rainfall error', yAxis = 1, tooltip = {\n",
    "                'pointFormat': '(error range: {point.low}-{point.high} mm)<br/>'\n",
    "            })\n",
    "H.add_data_set(data3, 'spline', 'Temperature', tooltip = {\n",
    "                'pointFormat': '<span style=\"font-weight: bold; color: {series.color}\">{series.name}</span>: <b>{point.y:.1f}°C</b> '\n",
    "            })\n",
    "H.add_data_set(data4, 'errorbar', 'Temperature error', tooltip = {\n",
    "                'pointFormat': '(error range: {point.low}-{point.high}°C)<br/>'\n",
    "            })\n",
    "\n",
    "H"
   ]
  },
  {
   "cell_type": "code",
   "execution_count": null,
   "metadata": {
    "collapsed": true
   },
   "outputs": [],
   "source": []
  }
 ],
 "metadata": {
  "kernelspec": {
   "display_name": "Python 2",
   "language": "python",
   "name": "python2"
  },
  "language_info": {
   "codemirror_mode": {
    "name": "ipython",
    "version": 2
   },
   "file_extension": ".py",
   "mimetype": "text/x-python",
   "name": "python",
   "nbconvert_exporter": "python",
   "pygments_lexer": "ipython2",
   "version": "2.7.6"
  }
 },
 "nbformat": 4,
 "nbformat_minor": 0
}
